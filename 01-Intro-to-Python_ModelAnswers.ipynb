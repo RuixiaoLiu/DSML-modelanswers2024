{
 "cells": [
  {
   "cell_type": "markdown",
   "metadata": {},
   "source": [
    "## Exercise 2\n",
    "\n",
    "Time to put your Python skills to the test! Complete the code below so that it returns *True* if the the sum of all of the values in the list is equal or greater than 100, and *False* if it is less than 100.\n",
    "\n",
    "**Important:** You need to use the variables given in the code, do not simply type the numbers."
   ]
  },
  {
   "cell_type": "code",
   "execution_count": 1,
   "metadata": {},
   "outputs": [
    {
     "data": {
      "text/plain": [
       "False"
      ]
     },
     "execution_count": 1,
     "metadata": {},
     "output_type": "execute_result"
    }
   ],
   "source": [
    "first_value = '11'\n",
    "second_value = '23.2'\n",
    "third_value = '15.4'\n",
    "fourth_value = '19.0'\n",
    "\n",
    "# note the question is asking for greater than OR equal to:\n",
    "float(first_value) + float(second_value) + float(third_value) + float(fourth_value) >= 100"
   ]
  },
  {
   "cell_type": "markdown",
   "metadata": {},
   "source": [
    "## Exercise 3\n",
    "Write a short program that adds the numbers in 'my_list' if they are even, but subtracts the numbers from the total if they are odd.\n",
    "\n",
    "**Hint:** Remember that the modulo operator ('%') returns the remainder of the division of two integers."
   ]
  },
  {
   "cell_type": "code",
   "execution_count": 2,
   "metadata": {},
   "outputs": [
    {
     "name": "stdout",
     "output_type": "stream",
     "text": [
      "42\n"
     ]
    }
   ],
   "source": [
    "my_list = [1, 11, 2, 32, 14, 55, 78, 1098, 333, 207, 601, 26]\n",
    "\n",
    "sum = 0\n",
    "\n",
    "for number in my_list:\n",
    "    if number % 2 == 0:\n",
    "        # Note that the '+=' operator ADDS 'number' to 'sum' then assigns the resultant value to 'sum'\n",
    "        sum += number\n",
    "    else:\n",
    "        # Same for '-='\n",
    "        sum -= number\n",
    "\n",
    "print(sum)"
   ]
  },
  {
   "cell_type": "markdown",
   "metadata": {},
   "source": [
    "## Exercise 4\n",
    "Write a short program that returns a list of tuples. Each tuple must contain the name of the mineral, its density and the chemical system of the mineral. However, we do not want to include silicate minerals, so filter those out."
   ]
  },
  {
   "cell_type": "code",
   "execution_count": 8,
   "metadata": {},
   "outputs": [
    {
     "data": {
      "text/plain": [
       "[('calcite', 2.71, 'carbonate'),\n",
       " ('gypsum', 2.96, 'sulfate'),\n",
       " ('fluorapatite', 3.12, 'phosphate')]"
      ]
     },
     "execution_count": 8,
     "metadata": {},
     "output_type": "execute_result"
    }
   ],
   "source": [
    "mineral_name = ['calcite', 'quartz', 'kaolinite', 'gypsum', 'fluorapatite']\n",
    "mineral_density = [2.71, 2.65, 2.65, 2.96, 3.12]\n",
    "chemical_system= ['carbonate', 'silicate', 'silicate', 'sulfate', 'phosphate']\n",
    "\n",
    "# Zip lists\n",
    "temp_list = list(zip(mineral_name, mineral_density, chemical_system))\n",
    "\n",
    "# Get rid of silicates\n",
    "\n",
    "final_list = list()\n",
    "\n",
    "# NOTE: You should generally not name your variables after object names\n",
    "# For example, you should never write the following: \n",
    "# for tuple in full_list <-- since 'tuple' is a built-in function name, this could lead to unexpected behavior!\n",
    "for tup in temp_list:\n",
    "    # chemical system is in position 2 in each tuple\n",
    "    if tup[2] != 'silicate':\n",
    "        final_list.append(tup)\n",
    "\n",
    "final_list"
   ]
  },
  {
   "cell_type": "markdown",
   "metadata": {},
   "source": [
    "## Exercise 5\n",
    "Rewrite exercise 4, but this time using a list comprehension. Do you find your code cleaner and easier to understand?"
   ]
  },
  {
   "cell_type": "code",
   "execution_count": 9,
   "metadata": {},
   "outputs": [
    {
     "data": {
      "text/plain": [
       "[('calcite', 2.71, 'carbonate'),\n",
       " ('gypsum', 2.96, 'sulfate'),\n",
       " ('fluorapatite', 3.12, 'phosphate')]"
      ]
     },
     "execution_count": 9,
     "metadata": {},
     "output_type": "execute_result"
    }
   ],
   "source": [
    "mineral_name = ['calcite', 'quartz', 'kaolinite', 'gypsum', 'fluorapatite']\n",
    "mineral_density = [2.71, 2.65, 2.65, 2.96, 3.12]\n",
    "chemical_system= ['carbonate', 'silicate', 'silicate', 'sulfate', 'phosphate']\n",
    "\n",
    "# Zip lists\n",
    "temp_list = list(zip(mineral_name, mineral_density, chemical_system))\n",
    "\n",
    "# Use list comprehension\n",
    "# Make sure you understand what is going in this line of code!\n",
    "final_list = [tup for tup in temp_list if tup[2] != 'silicate']\n",
    "              \n",
    "final_list"
   ]
  },
  {
   "cell_type": "markdown",
   "metadata": {},
   "source": [
    "## Exercise 6\n",
    "\n",
    "Create a function (let's call it 'print_content') that takes in a zipped list as an argument (e.g., the zipped lists that you created in Exercises 4/5), but without the filtering applied to it previously.\n",
    "\n",
    "For each entry in the zipped list, the function should print the following text: 'The mineral *mineral name* belongs to the *chemical system name* chemical system and has a density of *density value* g/cm3'\n",
    "   \n",
    "Use the cells below to write your code."
   ]
  },
  {
   "cell_type": "code",
   "execution_count": 10,
   "metadata": {},
   "outputs": [
    {
     "name": "stdout",
     "output_type": "stream",
     "text": [
      "The mineral calcite belongs to the carbonate chemical system and has a density of 2.71 g/cm3\n",
      "The mineral quartz belongs to the silicate chemical system and has a density of 2.65 g/cm3\n",
      "The mineral kaolinite belongs to the silicate chemical system and has a density of 2.65 g/cm3\n",
      "The mineral gypsum belongs to the sulfate chemical system and has a density of 2.96 g/cm3\n",
      "The mineral fluorapatite belongs to the phosphate chemical system and has a density of 3.12 g/cm3\n"
     ]
    }
   ],
   "source": [
    "mineral_name = ['calcite', 'quartz', 'kaolinite', 'gypsum', 'fluorapatite']\n",
    "mineral_density = [2.71, 2.65, 2.65, 2.96, 3.12]\n",
    "chemical_system= ['carbonate', 'silicate', 'silicate', 'sulfate', 'phosphate']\n",
    "\n",
    "# Zip lists\n",
    "temp_list = list(zip(mineral_name, mineral_density, chemical_system))\n",
    "\n",
    "def print_content(zipped_list):\n",
    "    for tup in zipped_list: \n",
    "        print(f'The mineral {tup[0]} belongs to the {tup[2]} chemical system and has a density of {tup[1]} g/cm3')\n",
    "\n",
    "print_content(temp_list)"
   ]
  },
  {
   "cell_type": "code",
   "execution_count": null,
   "metadata": {},
   "outputs": [],
   "source": []
  }
 ],
 "metadata": {
  "kernelspec": {
   "display_name": "base",
   "language": "python",
   "name": "python3"
  },
  "language_info": {
   "codemirror_mode": {
    "name": "ipython",
    "version": 3
   },
   "file_extension": ".py",
   "mimetype": "text/x-python",
   "name": "python",
   "nbconvert_exporter": "python",
   "pygments_lexer": "ipython3",
   "version": "3.11.4"
  }
 },
 "nbformat": 4,
 "nbformat_minor": 2
}
